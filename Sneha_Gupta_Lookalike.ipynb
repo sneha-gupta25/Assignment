{
 "cells": [
  {
   "cell_type": "code",
   "execution_count": 1,
   "id": "0cb1bac0",
   "metadata": {},
   "outputs": [],
   "source": [
    "import pandas as pd\n",
    "import numpy as np\n",
    "from sklearn.preprocessing import MinMaxScaler\n",
    "from sklearn.metrics.pairwise import cosine_similarity\n",
    "import csv"
   ]
  },
  {
   "cell_type": "code",
   "execution_count": 2,
   "id": "7ef980f6",
   "metadata": {},
   "outputs": [],
   "source": [
    "customers = pd.read_csv('Customers.csv')\n",
    "products = pd.read_csv('Products.csv')\n",
    "transactions = pd.read_csv('Transactions.csv')"
   ]
  },
  {
   "cell_type": "code",
   "execution_count": 3,
   "id": "d364a62b",
   "metadata": {},
   "outputs": [],
   "source": [
    "data = (\n",
    "    transactions\n",
    "    .merge(customers, on='CustomerID')\n",
    "    .merge(products, on='ProductID')\n",
    ")"
   ]
  },
  {
   "cell_type": "code",
   "execution_count": 5,
   "id": "b02877de",
   "metadata": {},
   "outputs": [],
   "source": [
    "customer_features = data.groupby('CustomerID').agg({\n",
    "    'TotalValue': ['sum', 'mean'],  \n",
    "    'ProductID': 'nunique',        \n",
    "    'Category': 'nunique'          \n",
    "}).reset_index()"
   ]
  },
  {
   "cell_type": "code",
   "execution_count": 6,
   "id": "40e5eca7",
   "metadata": {},
   "outputs": [],
   "source": [
    "customer_features.columns = ['CustomerID', 'TotalSpend', 'AvgSpend', 'UniqueProducts', 'UniqueCategories']"
   ]
  },
  {
   "cell_type": "code",
   "execution_count": 7,
   "id": "893bf643",
   "metadata": {},
   "outputs": [],
   "source": [
    "scaler = MinMaxScaler()\n",
    "scaled_features = scaler.fit_transform(customer_features.iloc[:, 1:])"
   ]
  },
  {
   "cell_type": "code",
   "execution_count": 9,
   "id": "aee23669",
   "metadata": {},
   "outputs": [],
   "source": [
    "similarity_matrix = cosine_similarity(scaled_features)"
   ]
  },
  {
   "cell_type": "code",
   "execution_count": 10,
   "id": "98f22998",
   "metadata": {},
   "outputs": [],
   "source": [
    "def get_top_similar_customers(customer_idx, similarity_matrix, top_n=3):\n",
    "    \"\"\"\n",
    "    Get top N similar customers for a given customer index.\n",
    "    Args:\n",
    "        customer_idx (int): Index of the target customer.\n",
    "        similarity_matrix (array): Precomputed cosine similarity matrix.\n",
    "        top_n (int): Number of similar customers to return.\n",
    "    Returns:\n",
    "        List[Tuple]: List of (CustomerID, similarity_score) tuples.\n",
    "    \"\"\"\n",
    "    similarities = similarity_matrix[customer_idx]\n",
    "    similar_indices = np.argsort(similarities)[::-1][1:top_n + 1]\n",
    "    return [(customer_features['CustomerID'].iloc[i], similarities[i]) for i in similar_indices]\n"
   ]
  },
  {
   "cell_type": "code",
   "execution_count": 11,
   "id": "58c5257f",
   "metadata": {},
   "outputs": [],
   "source": [
    "recommendations = {}\n",
    "for idx in range(20):\n",
    "    customer_id = customer_features['CustomerID'].iloc[idx]\n",
    "    recommendations[customer_id] = get_top_similar_customers(idx, similarity_matrix)\n"
   ]
  },
  {
   "cell_type": "code",
   "execution_count": 12,
   "id": "e3ab8fce",
   "metadata": {},
   "outputs": [
    {
     "name": "stdout",
     "output_type": "stream",
     "text": [
      "Lookalike.csv created: Sneha_Gupta_Lookalike.csv\n"
     ]
    }
   ],
   "source": [
    "output_file = 'Sneha_Gupta_Lookalike.csv'\n",
    "with open(output_file, 'w', newline='') as file:\n",
    "    writer = csv.writer(file)\n",
    "    writer.writerow(['cust_id', 'lookalikes'])  \n",
    "    for cust_id, lookalikes in recommendations.items():\n",
    "        lookalikes_str = \"; \".join([f\"({sim[0]}, {sim[1]:.4f})\" for sim in lookalikes])\n",
    "        writer.writerow([cust_id, lookalikes_str])\n",
    "\n",
    "print(f\"Lookalike.csv created: {output_file}\")"
   ]
  },
  {
   "cell_type": "code",
   "execution_count": 14,
   "id": "b22f1e50",
   "metadata": {},
   "outputs": [
    {
     "name": "stdout",
     "output_type": "stream",
     "text": [
      "Customer: C0020 - Lookalikes: (C0097, 1.0000); (C0110, 1.0000); (C0078, 1.0000)\n"
     ]
    }
   ],
   "source": [
    "        print(f\"Customer: {cust_id} - Lookalikes: {lookalikes_str}\")\n"
   ]
  },
  {
   "cell_type": "code",
   "execution_count": null,
   "id": "ed19271a",
   "metadata": {},
   "outputs": [],
   "source": []
  }
 ],
 "metadata": {
  "kernelspec": {
   "display_name": "Python 3 (ipykernel)",
   "language": "python",
   "name": "python3"
  },
  "language_info": {
   "codemirror_mode": {
    "name": "ipython",
    "version": 3
   },
   "file_extension": ".py",
   "mimetype": "text/x-python",
   "name": "python",
   "nbconvert_exporter": "python",
   "pygments_lexer": "ipython3",
   "version": "3.9.13"
  }
 },
 "nbformat": 4,
 "nbformat_minor": 5
}
